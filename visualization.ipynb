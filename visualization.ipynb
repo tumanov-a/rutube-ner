{
 "cells": [
  {
   "cell_type": "code",
   "execution_count": null,
   "metadata": {},
   "outputs": [],
   "source": [
    "from spacy import displacy\n",
    "from transformers import AutoModelForTokenClassification, AutoTokenizer, pipeline\n",
    "import json\n",
    "import random\n",
    "import torch\n",
    "import warnings\n",
    "warnings.filterwarnings(\"ignore\")\n",
    "\n",
    "hex_colors = ['#f5cac3',\n",
    "             '#ffb3ba',\n",
    "             '#ffdfba',\n",
    "             '#ffffba',\n",
    "             '#baffc9',\n",
    "             '#bae1ff',\n",
    "             '#bac1ff',\n",
    "             '#ffbaff',\n",
    "             '#d6a5c9',\n",
    "             '#ffa5d8',\n",
    "             '#ffbfa5',\n",
    "             '#a5ffd6',\n",
    "             '#c9a5ff',\n",
    "             '#a5d6ff',\n",
    "             '#d6a5ff',\n",
    "             '#a3ffa3',\n",
    "             '#c3a5ff',\n",
    "             '#ffbebe',\n",
    "             '#c3ffc3']\n",
    "\n",
    "hex_colors = ['#ED143B', '#100943', '#123AED', '#9A13ED', '#12CCED', '#E4F4F6']"
   ]
  },
  {
   "cell_type": "code",
   "execution_count": null,
   "metadata": {},
   "outputs": [],
   "source": [
    "def load_labels(checkpoint_path):\n",
    "    with open(f'{checkpoint_path}/config.json', 'r') as f:\n",
    "        j = json.load(f)\n",
    "    label_list = list(j['label2id'].keys())\n",
    "    return label_list\n",
    "\n",
    "def display_ents(text):\n",
    "    pred_entities = pipe(text)\n",
    "    rewrite_pred_entities = []\n",
    "    for row in pred_entities:\n",
    "        rewrite_pred_entities.append({'start': row['start'], 'end': row['end'], 'label': row['entity_group']})\n",
    "    tags = [label.strip('B-') for label in label_list if label.startswith('B-')]\n",
    "    displacy_dict = [{'text': text, 'ents': rewrite_pred_entities, 'title': None}]\n",
    "    colors = {ent: hex_colors[i//2-1] for i, ent in enumerate(tags)}\n",
    "    options = {\"ents\": tags, \"colors\": colors}\n",
    "    html = displacy.render(displacy_dict, style=\"ent\", manual=True, options=options)"
   ]
  },
  {
   "cell_type": "code",
   "execution_count": null,
   "metadata": {},
   "outputs": [],
   "source": [
    "model_checkpoint = '../ner/checkpoint-1446'\n",
    "\n",
    "label_list = load_labels(model_checkpoint)\n",
    "model = AutoModelForTokenClassification.from_pretrained(model_checkpoint, num_labels=len(label_list))\n",
    "model.config.id2label = dict(enumerate(label_list))\n",
    "model.config.label2id = {v: k for k, v in model.config.id2label.items()}\n",
    "\n",
    "tokenizer = AutoTokenizer.from_pretrained(model_checkpoint, device='cpu')\n",
    "pipe = pipeline(model=model, tokenizer=tokenizer, task='ner', aggregation_strategy='average', device='cpu')"
   ]
  },
  {
   "cell_type": "code",
   "execution_count": null,
   "metadata": {},
   "outputs": [],
   "source": [
    "text = \"<НАЗВАНИЕ:> Агент 117: Из Африки с любовью — Русский тизер=трейлер (2021) <ОПИСАНИЕ:>Лучший Telegram канал о кино <LINK> Сотрудничество <LINK> Дата выхода 26 августа 2021 Оригинальное название: OSS 117: Alerte rouge en Afrique noire Страна: Франция Режиссер: Николя Бедос Жанр: боевик, комедия В главных ролях: Жан Дюжарден, Пьер Нинэ, Мелоди Каста, Наташа Линдинжер, Владимир Иорданов, Фату Н’Диайе, Пол Уайт Мир изменился. Он нет. Судьба заносит легендарного Агента 117 в Африку, где горячее пустыни только женщины. Вооруженный неиссякаемой уверенностью в себе и убийственной харизмой, он может справиться со всеми врагами, кроме самого себя. По вопросам авторского права, пожалуйста, свяжитесь с нами по адресу: <AT>\""
   ]
  },
  {
   "cell_type": "code",
   "execution_count": null,
   "metadata": {},
   "outputs": [],
   "source": [
    "display_ents(text)"
   ]
  }
 ],
 "metadata": {
  "language_info": {
   "name": "python"
  }
 },
 "nbformat": 4,
 "nbformat_minor": 2
}
